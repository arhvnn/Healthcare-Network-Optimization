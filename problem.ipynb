{
 "cells": [
  {
   "cell_type": "markdown",
   "metadata": {},
   "source": [
    "# **Imports**"
   ]
  },
  {
   "cell_type": "code",
   "execution_count": 2,
   "metadata": {},
   "outputs": [],
   "source": [
    "import json\n",
    "import osmnx as ox\n",
    "from collections import deque\n",
    "import requests\n",
    "import geocoder"
   ]
  },
  {
   "cell_type": "markdown",
   "metadata": {},
   "source": [
    "# **Node Definition**"
   ]
  },
  {
   "cell_type": "code",
   "execution_count": 3,
   "metadata": {},
   "outputs": [],
   "source": [
    "class Node:\n",
    "    def __init__(self, state, parent=None, action=None, path_cost=0):\n",
    "        self.state = state  \n",
    "        self.parent = parent  \n",
    "        self.action = action  \n",
    "        self.path_cost = path_cost  \n",
    "\n",
    "    def __str__(self):\n",
    "        return f\"# City: {self.state}, Distance crossed: {round(self.path_cost, 2)}KM\""
   ]
  },
  {
   "cell_type": "markdown",
   "metadata": {},
   "source": [
    "# **Data Loading**"
   ]
  },
  {
   "cell_type": "code",
   "execution_count": 4,
   "metadata": {},
   "outputs": [],
   "source": [
    "def load_data(file_path):\n",
    "    with open(file_path, \"r\") as f:\n",
    "        return json.load(f)\n",
    "\n",
    "data_file_path = \"data/AlgiersHospitals.json\"\n",
    "algiers_hospitals = load_data(data_file_path)\n",
    "\n",
    "data_file_path = \"data/MapNodes.json\"\n",
    "nodes=load_data(data_file_path)\n",
    "\n",
    "data_file_path = \"data/MapEdges.json\"\n",
    "edges=load_data(data_file_path)\n",
    "edges = {eval(key): value for key, value in edges.items()} # Turns keys from string into tuples\n",
    "\n",
    "graph = ox.load_graphml(filepath=\"data/Map.graphml\")"
   ]
  },
  {
   "cell_type": "markdown",
   "metadata": {},
   "source": [
    "# **Problem Definition**"
   ]
  },
  {
   "cell_type": "code",
   "execution_count": 5,
   "metadata": {},
   "outputs": [],
   "source": [
    "class problem:\n",
    "    def __init__(self, initial_state, goal_state={\"type\":\"public\", \"department\":\"General Surgery\"}, transition_model=nodes, costs=edges, hospital_info=algiers_hospitals):\n",
    "        self.initial_state = initial_state\n",
    "        self.goal_state = goal_state\n",
    "        self.transition_model = transition_model\n",
    "        self.hospital_info = hospital_info\n",
    "        self.costs=costs\n",
    "\n",
    "    def actions(self, state):\n",
    "        neighbour_nodes = self.transition_model[str(state)][\"neighbors\"]\n",
    "        return neighbour_nodes\n",
    "    \n",
    "    #FIXME: Remove this function\n",
    "\n",
    "    def result(self, state, action):\n",
    "        return action\n",
    "\n",
    "    def goal_test(self, state):\n",
    "        hospital = nodes[str(state)][\"hospital\"]\n",
    "        if hospital:\n",
    "            if (\n",
    "                self.goal_state[\"type\"]==self.hospital_info[hospital][\"type\"] \n",
    "                and self.goal_state[\"department\"] in self.hospital_info[hospital][\"departments\"]\n",
    "            ):\n",
    "                return True\n",
    "        return False\n",
    "\n",
    "    def step_cost(self, state, action):\n",
    "        return self.costs[(state, action)][\"length\"]\n",
    "\n",
    "    def child_node(self, parent, action):\n",
    "        state = self.result(parent.state, action)\n",
    "        path_cost = parent.path_cost + self.step_cost(parent.state, action)\n",
    "        return Node(state=state, parent=parent, action=action, path_cost=path_cost)"
   ]
  },
  {
   "cell_type": "markdown",
   "metadata": {},
   "source": [
    "# **Solver**"
   ]
  },
  {
   "cell_type": "code",
   "execution_count": 6,
   "metadata": {},
   "outputs": [],
   "source": [
    "class Solver:\n",
    "    def __init__(self, problem):\n",
    "        self.problem = problem\n",
    "\n",
    "    def breadth_first_search(self):\n",
    "        initial_node = Node(state=self.problem.initial_state, path_cost=0)\n",
    "        if self.problem.goal_test(initial_node.state):\n",
    "            return self.solution(initial_node)\n",
    "\n",
    "        frontier = deque([initial_node])\n",
    "        explored = set()\n",
    "\n",
    "        while frontier:\n",
    "            node = frontier.popleft()\n",
    "            explored.add(node.state)\n",
    "\n",
    "            for action in self.problem.actions(node.state):\n",
    "                child = self.problem.child_node(node, action)\n",
    "                if child.state not in explored and child not in frontier:\n",
    "                    if self.problem.goal_test(child.state):\n",
    "                        return self.solution(child)\n",
    "                    frontier.append(child)\n",
    "\n",
    "        return \"GOAL IS UNREACHABLE!\"\n",
    "\n",
    "    def solution(self, node):\n",
    "        path = []\n",
    "        while node:\n",
    "            path.insert(0, node)\n",
    "            node = node.parent\n",
    "        return path"
   ]
  },
  {
   "cell_type": "markdown",
   "metadata": {},
   "source": [
    "# **Utils**"
   ]
  },
  {
   "cell_type": "code",
   "execution_count": 7,
   "metadata": {},
   "outputs": [],
   "source": [
    "def get_current_ip():\n",
    "    try:\n",
    "        response = requests.get('https://api.ipify.org')\n",
    "        if response.status_code == 200:\n",
    "            return response.text\n",
    "        else:\n",
    "            return None\n",
    "    except requests.RequestException:\n",
    "        return None\n",
    "\n",
    "def get_current_location_coordinates():\n",
    "    # Get current IP address\n",
    "    current_ip = get_current_ip()\n",
    "    if current_ip:\n",
    "        try:\n",
    "            # Get current location using IP address\n",
    "            g = geocoder.ip(current_ip)\n",
    "            # Extract latitude and longitude\n",
    "            latitude, longitude = g.latlng\n",
    "            return latitude, longitude\n",
    "        except:\n",
    "            return None\n",
    "    else:\n",
    "        return None"
   ]
  },
  {
   "cell_type": "markdown",
   "metadata": {},
   "source": [
    "# **Main**"
   ]
  },
  {
   "cell_type": "code",
   "execution_count": 8,
   "metadata": {},
   "outputs": [],
   "source": [
    "Y, X = get_current_location_coordinates()\n",
    "initial_state=ox.distance.nearest_nodes(graph, X, Y, return_dist=False)\n",
    "problem=problem(initial_state)\n",
    "solver = Solver(problem)\n",
    "solution_path = solver.breadth_first_search()"
   ]
  },
  {
   "cell_type": "markdown",
   "metadata": {},
   "source": [
    "# **Visualisation**"
   ]
  },
  {
   "cell_type": "code",
   "execution_count": 9,
   "metadata": {},
   "outputs": [
    {
     "ename": "KeyboardInterrupt",
     "evalue": "",
     "output_type": "error",
     "traceback": [
      "\u001b[0;31m---------------------------------------------------------------------------\u001b[0m",
      "\u001b[0;31mKeyboardInterrupt\u001b[0m                         Traceback (most recent call last)",
      "Cell \u001b[0;32mIn[9], line 6\u001b[0m\n\u001b[1;32m      2\u001b[0m \u001b[38;5;28;01mfor\u001b[39;00m i \u001b[38;5;129;01min\u001b[39;00m solution_path:\n\u001b[1;32m      3\u001b[0m     states\u001b[38;5;241m.\u001b[39mappend(i\u001b[38;5;241m.\u001b[39mstate)\n\u001b[0;32m----> 6\u001b[0m \u001b[43mox\u001b[49m\u001b[38;5;241;43m.\u001b[39;49m\u001b[43mplot\u001b[49m\u001b[38;5;241;43m.\u001b[39;49m\u001b[43mplot_graph_route\u001b[49m\u001b[43m(\u001b[49m\u001b[43mgraph\u001b[49m\u001b[43m,\u001b[49m\u001b[43m \u001b[49m\u001b[43mstates\u001b[49m\u001b[43m)\u001b[49m\n",
      "File \u001b[0;32m~/.local/lib/python3.12/site-packages/osmnx/plot.py:320\u001b[0m, in \u001b[0;36mplot_graph_route\u001b[0;34m(G, route, route_color, route_linewidth, route_alpha, orig_dest_size, ax, **pg_kwargs)\u001b[0m\n\u001b[1;32m    318\u001b[0m     overrides \u001b[38;5;241m=\u001b[39m {\u001b[38;5;124m\"\u001b[39m\u001b[38;5;124mshow\u001b[39m\u001b[38;5;124m\"\u001b[39m, \u001b[38;5;124m\"\u001b[39m\u001b[38;5;124msave\u001b[39m\u001b[38;5;124m\"\u001b[39m, \u001b[38;5;124m\"\u001b[39m\u001b[38;5;124mclose\u001b[39m\u001b[38;5;124m\"\u001b[39m}\n\u001b[1;32m    319\u001b[0m     kwargs \u001b[38;5;241m=\u001b[39m {k: v \u001b[38;5;28;01mfor\u001b[39;00m k, v \u001b[38;5;129;01min\u001b[39;00m pg_kwargs\u001b[38;5;241m.\u001b[39mitems() \u001b[38;5;28;01mif\u001b[39;00m k \u001b[38;5;129;01mnot\u001b[39;00m \u001b[38;5;129;01min\u001b[39;00m overrides}\n\u001b[0;32m--> 320\u001b[0m     fig, ax \u001b[38;5;241m=\u001b[39m \u001b[43mplot_graph\u001b[49m\u001b[43m(\u001b[49m\u001b[43mG\u001b[49m\u001b[43m,\u001b[49m\u001b[43m \u001b[49m\u001b[43mshow\u001b[49m\u001b[38;5;241;43m=\u001b[39;49m\u001b[38;5;28;43;01mFalse\u001b[39;49;00m\u001b[43m,\u001b[49m\u001b[43m \u001b[49m\u001b[43msave\u001b[49m\u001b[38;5;241;43m=\u001b[39;49m\u001b[38;5;28;43;01mFalse\u001b[39;49;00m\u001b[43m,\u001b[49m\u001b[43m \u001b[49m\u001b[43mclose\u001b[49m\u001b[38;5;241;43m=\u001b[39;49m\u001b[38;5;28;43;01mFalse\u001b[39;49;00m\u001b[43m,\u001b[49m\u001b[43m \u001b[49m\u001b[38;5;241;43m*\u001b[39;49m\u001b[38;5;241;43m*\u001b[39;49m\u001b[43mkwargs\u001b[49m\u001b[43m)\u001b[49m\n\u001b[1;32m    321\u001b[0m \u001b[38;5;28;01melse\u001b[39;00m:\n\u001b[1;32m    322\u001b[0m     fig \u001b[38;5;241m=\u001b[39m ax\u001b[38;5;241m.\u001b[39mfigure\n",
      "File \u001b[0;32m~/.local/lib/python3.12/site-packages/osmnx/plot.py:242\u001b[0m, in \u001b[0;36mplot_graph\u001b[0;34m(G, ax, figsize, bgcolor, node_color, node_size, node_alpha, node_edgecolor, node_zorder, edge_color, edge_linewidth, edge_alpha, show, close, save, filepath, dpi, bbox)\u001b[0m\n\u001b[1;32m    238\u001b[0m     fig \u001b[38;5;241m=\u001b[39m ax\u001b[38;5;241m.\u001b[39mfigure\n\u001b[1;32m    240\u001b[0m \u001b[38;5;28;01mif\u001b[39;00m max_edge_lw \u001b[38;5;241m>\u001b[39m \u001b[38;5;241m0\u001b[39m:\n\u001b[1;32m    241\u001b[0m     \u001b[38;5;66;03m# plot the edges' geometries\u001b[39;00m\n\u001b[0;32m--> 242\u001b[0m     gdf_edges \u001b[38;5;241m=\u001b[39m \u001b[43mconvert\u001b[49m\u001b[38;5;241;43m.\u001b[39;49m\u001b[43mgraph_to_gdfs\u001b[49m\u001b[43m(\u001b[49m\u001b[43mG\u001b[49m\u001b[43m,\u001b[49m\u001b[43m \u001b[49m\u001b[43mnodes\u001b[49m\u001b[38;5;241;43m=\u001b[39;49m\u001b[38;5;28;43;01mFalse\u001b[39;49;00m\u001b[43m)\u001b[49m[\u001b[38;5;124m\"\u001b[39m\u001b[38;5;124mgeometry\u001b[39m\u001b[38;5;124m\"\u001b[39m]\n\u001b[1;32m    243\u001b[0m     ax \u001b[38;5;241m=\u001b[39m gdf_edges\u001b[38;5;241m.\u001b[39mplot(ax\u001b[38;5;241m=\u001b[39max, color\u001b[38;5;241m=\u001b[39medge_color, lw\u001b[38;5;241m=\u001b[39medge_linewidth, alpha\u001b[38;5;241m=\u001b[39medge_alpha, zorder\u001b[38;5;241m=\u001b[39m\u001b[38;5;241m1\u001b[39m)\n\u001b[1;32m    245\u001b[0m \u001b[38;5;28;01mif\u001b[39;00m max_node_size \u001b[38;5;241m>\u001b[39m \u001b[38;5;241m0\u001b[39m:\n\u001b[1;32m    246\u001b[0m     \u001b[38;5;66;03m# scatter plot the nodes' x/y coordinates\u001b[39;00m\n",
      "File \u001b[0;32m~/.local/lib/python3.12/site-packages/osmnx/convert.py:81\u001b[0m, in \u001b[0;36mgraph_to_gdfs\u001b[0;34m(G, nodes, edges, node_geometry, fill_edge_geometry)\u001b[0m\n\u001b[1;32m     78\u001b[0m         \u001b[38;5;28;01mreturn\u001b[39;00m LineString((Point((x[u], y[u])), Point((x[v], y[v]))))\n\u001b[1;32m     80\u001b[0m     edge_geoms \u001b[38;5;241m=\u001b[39m \u001b[38;5;28mmap\u001b[39m(_make_edge_geometry, u, v, data)\n\u001b[0;32m---> 81\u001b[0m     gdf_edges \u001b[38;5;241m=\u001b[39m gpd\u001b[38;5;241m.\u001b[39mGeoDataFrame(data, crs\u001b[38;5;241m=\u001b[39mcrs, geometry\u001b[38;5;241m=\u001b[39m\u001b[38;5;28;43mlist\u001b[39;49m\u001b[43m(\u001b[49m\u001b[43medge_geoms\u001b[49m\u001b[43m)\u001b[49m)\n\u001b[1;32m     83\u001b[0m \u001b[38;5;28;01melse\u001b[39;00m:\n\u001b[1;32m     84\u001b[0m     gdf_edges \u001b[38;5;241m=\u001b[39m gpd\u001b[38;5;241m.\u001b[39mGeoDataFrame(data)\n",
      "File \u001b[0;32m~/.local/lib/python3.12/site-packages/osmnx/convert.py:78\u001b[0m, in \u001b[0;36mgraph_to_gdfs.<locals>._make_edge_geometry\u001b[0;34m(u, v, data, x, y)\u001b[0m\n\u001b[1;32m     75\u001b[0m     \u001b[38;5;28;01mreturn\u001b[39;00m data[\u001b[38;5;124m\"\u001b[39m\u001b[38;5;124mgeometry\u001b[39m\u001b[38;5;124m\"\u001b[39m]\n\u001b[1;32m     77\u001b[0m \u001b[38;5;66;03m# otherwise\u001b[39;00m\n\u001b[0;32m---> 78\u001b[0m \u001b[38;5;28;01mreturn\u001b[39;00m \u001b[43mLineString\u001b[49m\u001b[43m(\u001b[49m\u001b[43m(\u001b[49m\u001b[43mPoint\u001b[49m\u001b[43m(\u001b[49m\u001b[43m(\u001b[49m\u001b[43mx\u001b[49m\u001b[43m[\u001b[49m\u001b[43mu\u001b[49m\u001b[43m]\u001b[49m\u001b[43m,\u001b[49m\u001b[43m \u001b[49m\u001b[43my\u001b[49m\u001b[43m[\u001b[49m\u001b[43mu\u001b[49m\u001b[43m]\u001b[49m\u001b[43m)\u001b[49m\u001b[43m)\u001b[49m\u001b[43m,\u001b[49m\u001b[43m \u001b[49m\u001b[43mPoint\u001b[49m\u001b[43m(\u001b[49m\u001b[43m(\u001b[49m\u001b[43mx\u001b[49m\u001b[43m[\u001b[49m\u001b[43mv\u001b[49m\u001b[43m]\u001b[49m\u001b[43m,\u001b[49m\u001b[43m \u001b[49m\u001b[43my\u001b[49m\u001b[43m[\u001b[49m\u001b[43mv\u001b[49m\u001b[43m]\u001b[49m\u001b[43m)\u001b[49m\u001b[43m)\u001b[49m\u001b[43m)\u001b[49m\u001b[43m)\u001b[49m\n",
      "File \u001b[0;32m~/.local/lib/python3.12/site-packages/shapely/geometry/linestring.py:66\u001b[0m, in \u001b[0;36mLineString.__new__\u001b[0;34m(self, coordinates)\u001b[0m\n\u001b[1;32m     63\u001b[0m             \u001b[38;5;28;01melse\u001b[39;00m:\n\u001b[1;32m     64\u001b[0m                 \u001b[38;5;28;01mreturn\u001b[39;00m [\u001b[38;5;28mfloat\u001b[39m(c) \u001b[38;5;28;01mfor\u001b[39;00m c \u001b[38;5;129;01min\u001b[39;00m o]\n\u001b[0;32m---> 66\u001b[0m         coordinates \u001b[38;5;241m=\u001b[39m [\u001b[43m_coords\u001b[49m\u001b[43m(\u001b[49m\u001b[43mo\u001b[49m\u001b[43m)\u001b[49m \u001b[38;5;28;01mfor\u001b[39;00m o \u001b[38;5;129;01min\u001b[39;00m coordinates]\n\u001b[1;32m     68\u001b[0m \u001b[38;5;28;01mif\u001b[39;00m \u001b[38;5;28mlen\u001b[39m(coordinates) \u001b[38;5;241m==\u001b[39m \u001b[38;5;241m0\u001b[39m:\n\u001b[1;32m     69\u001b[0m     \u001b[38;5;66;03m# empty geometry\u001b[39;00m\n\u001b[1;32m     70\u001b[0m     \u001b[38;5;66;03m# TODO better constructor + should shapely.linestrings handle this?\u001b[39;00m\n\u001b[1;32m     71\u001b[0m     \u001b[38;5;28;01mreturn\u001b[39;00m shapely\u001b[38;5;241m.\u001b[39mfrom_wkt(\u001b[38;5;124m\"\u001b[39m\u001b[38;5;124mLINESTRING EMPTY\u001b[39m\u001b[38;5;124m\"\u001b[39m)\n",
      "File \u001b[0;32m~/.local/lib/python3.12/site-packages/shapely/geometry/linestring.py:62\u001b[0m, in \u001b[0;36mLineString.__new__.<locals>._coords\u001b[0;34m(o)\u001b[0m\n\u001b[1;32m     60\u001b[0m \u001b[38;5;28;01mdef\u001b[39;00m \u001b[38;5;21m_coords\u001b[39m(o):\n\u001b[1;32m     61\u001b[0m     \u001b[38;5;28;01mif\u001b[39;00m \u001b[38;5;28misinstance\u001b[39m(o, Point):\n\u001b[0;32m---> 62\u001b[0m         \u001b[38;5;28;01mreturn\u001b[39;00m \u001b[43mo\u001b[49m\u001b[38;5;241;43m.\u001b[39;49m\u001b[43mcoords\u001b[49m[\u001b[38;5;241m0\u001b[39m]\n\u001b[1;32m     63\u001b[0m     \u001b[38;5;28;01melse\u001b[39;00m:\n\u001b[1;32m     64\u001b[0m         \u001b[38;5;28;01mreturn\u001b[39;00m [\u001b[38;5;28mfloat\u001b[39m(c) \u001b[38;5;28;01mfor\u001b[39;00m c \u001b[38;5;129;01min\u001b[39;00m o]\n",
      "File \u001b[0;32m~/.local/lib/python3.12/site-packages/shapely/geometry/base.py:223\u001b[0m, in \u001b[0;36mBaseGeometry.coords\u001b[0;34m(self)\u001b[0m\n\u001b[1;32m    220\u001b[0m \u001b[38;5;129m@property\u001b[39m\n\u001b[1;32m    221\u001b[0m \u001b[38;5;28;01mdef\u001b[39;00m \u001b[38;5;21mcoords\u001b[39m(\u001b[38;5;28mself\u001b[39m):\n\u001b[1;32m    222\u001b[0m \u001b[38;5;250m    \u001b[39m\u001b[38;5;124;03m\"\"\"Access to geometry's coordinates (CoordinateSequence)\"\"\"\u001b[39;00m\n\u001b[0;32m--> 223\u001b[0m     coords_array \u001b[38;5;241m=\u001b[39m \u001b[43mshapely\u001b[49m\u001b[38;5;241;43m.\u001b[39;49m\u001b[43mget_coordinates\u001b[49m\u001b[43m(\u001b[49m\u001b[38;5;28;43mself\u001b[39;49m\u001b[43m,\u001b[49m\u001b[43m \u001b[49m\u001b[43minclude_z\u001b[49m\u001b[38;5;241;43m=\u001b[39;49m\u001b[38;5;28;43mself\u001b[39;49m\u001b[38;5;241;43m.\u001b[39;49m\u001b[43mhas_z\u001b[49m\u001b[43m)\u001b[49m\n\u001b[1;32m    224\u001b[0m     \u001b[38;5;28;01mreturn\u001b[39;00m CoordinateSequence(coords_array)\n",
      "File \u001b[0;32m~/.local/lib/python3.12/site-packages/shapely/coordinates.py:137\u001b[0m, in \u001b[0;36mget_coordinates\u001b[0;34m(geometry, include_z, return_index)\u001b[0m\n\u001b[1;32m     93\u001b[0m \u001b[38;5;28;01mdef\u001b[39;00m \u001b[38;5;21mget_coordinates\u001b[39m(geometry, include_z\u001b[38;5;241m=\u001b[39m\u001b[38;5;28;01mFalse\u001b[39;00m, return_index\u001b[38;5;241m=\u001b[39m\u001b[38;5;28;01mFalse\u001b[39;00m):\n\u001b[1;32m     94\u001b[0m \u001b[38;5;250m    \u001b[39m\u001b[38;5;124;03m\"\"\"Gets coordinates from a geometry array as an array of floats.\u001b[39;00m\n\u001b[1;32m     95\u001b[0m \n\u001b[1;32m     96\u001b[0m \u001b[38;5;124;03m    The shape of the returned array is (N, 2), with N being the number of\u001b[39;00m\n\u001b[0;32m   (...)\u001b[0m\n\u001b[1;32m    134\u001b[0m \u001b[38;5;124;03m    ([[2.0, 2.0], [4.0, 4.0], [0.0, 0.0]], [0, 0, 1])\u001b[39;00m\n\u001b[1;32m    135\u001b[0m \u001b[38;5;124;03m    \"\"\"\u001b[39;00m\n\u001b[1;32m    136\u001b[0m     \u001b[38;5;28;01mreturn\u001b[39;00m lib\u001b[38;5;241m.\u001b[39mget_coordinates(\n\u001b[0;32m--> 137\u001b[0m         \u001b[43mnp\u001b[49m\u001b[38;5;241;43m.\u001b[39;49m\u001b[43masarray\u001b[49m\u001b[43m(\u001b[49m\u001b[43mgeometry\u001b[49m\u001b[43m,\u001b[49m\u001b[43m \u001b[49m\u001b[43mdtype\u001b[49m\u001b[38;5;241;43m=\u001b[39;49m\u001b[43mnp\u001b[49m\u001b[38;5;241;43m.\u001b[39;49m\u001b[43mobject_\u001b[49m\u001b[43m)\u001b[49m, include_z, return_index\n\u001b[1;32m    138\u001b[0m     )\n",
      "\u001b[0;31mKeyboardInterrupt\u001b[0m: "
     ]
    },
    {
     "data": {
      "image/png": "[encoded data removed]",
      "text/plain": [
       "<Figure size 800x800 with 1 Axes>"
      ]
     },
     "metadata": {},
     "output_type": "display_data"
    }
   ],
   "source": [
    "states=[]\n",
    "for i in solution_path:\n",
    "    states.append(i.state)\n",
    "\n",
    "\n",
    "ox.plot.plot_graph_route(graph, states)"
   ]
  }
 ],
 "metadata": {
  "kernelspec": {
   "display_name": "Python 3",
   "language": "python",
   "name": "python3"
  },
  "language_info": {
   "codemirror_mode": {
    "name": "ipython",
    "version": 3
   },
   "file_extension": ".py",
   "mimetype": "text/x-python",
   "name": "python",
   "nbconvert_exporter": "python",
   "pygments_lexer": "ipython3",
   "version": "3.12.2"
  }
 },
 "nbformat": 4,
 "nbformat_minor": 2
}
